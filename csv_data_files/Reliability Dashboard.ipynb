{
 "cells": [
  {
   "cell_type": "code",
   "execution_count": 1,
   "metadata": {},
   "outputs": [],
   "source": [
    "import pandas as pd\n",
    "import numpy as np\n",
    "from reliability.Repairable_systems import ROCOF, reliability_growth\n",
    "from reliability.Fitters import Fit_Weibull_2P\n",
    "from reliability.Probability_plotting import plot_points\n",
    "from scipy.stats import linregress\n",
    "\n",
    "import matplotlib.pyplot as plt\n",
    "import seaborn as sns\n",
    "%matplotlib inline\n",
    "sns.set()"
   ]
  },
  {
   "cell_type": "code",
   "execution_count": 2,
   "metadata": {},
   "outputs": [
    {
     "data": {
      "text/html": [
       "<div>\n",
       "<style scoped>\n",
       "    .dataframe tbody tr th:only-of-type {\n",
       "        vertical-align: middle;\n",
       "    }\n",
       "\n",
       "    .dataframe tbody tr th {\n",
       "        vertical-align: top;\n",
       "    }\n",
       "\n",
       "    .dataframe thead th {\n",
       "        text-align: right;\n",
       "    }\n",
       "</style>\n",
       "<table border=\"1\" class=\"dataframe\">\n",
       "  <thead>\n",
       "    <tr style=\"text-align: right;\">\n",
       "      <th></th>\n",
       "      <th>AC_REG</th>\n",
       "      <th>DEP_STA</th>\n",
       "      <th>ARR_STA</th>\n",
       "      <th>CYC</th>\n",
       "      <th>TO_DATETIME</th>\n",
       "      <th>LAND_DATETIME</th>\n",
       "      <th>FLT_DURR</th>\n",
       "    </tr>\n",
       "  </thead>\n",
       "  <tbody>\n",
       "    <tr>\n",
       "      <th>0</th>\n",
       "      <td>PK-PWA</td>\n",
       "      <td>SHJ</td>\n",
       "      <td>CCU</td>\n",
       "      <td>1</td>\n",
       "      <td>4/10/2022 22:43</td>\n",
       "      <td>4/11/2022 3:29</td>\n",
       "      <td>0 days 04:46:00</td>\n",
       "    </tr>\n",
       "    <tr>\n",
       "      <th>1</th>\n",
       "      <td>PK-PWA</td>\n",
       "      <td>CCU</td>\n",
       "      <td>CGK</td>\n",
       "      <td>1</td>\n",
       "      <td>4/17/2022 4:56</td>\n",
       "      <td>4/17/2022 10:00</td>\n",
       "      <td>0 days 05:04:00</td>\n",
       "    </tr>\n",
       "    <tr>\n",
       "      <th>2</th>\n",
       "      <td>PK-PWA</td>\n",
       "      <td>CGK</td>\n",
       "      <td>KNO</td>\n",
       "      <td>1</td>\n",
       "      <td>NaN</td>\n",
       "      <td>NaN</td>\n",
       "      <td>NaT</td>\n",
       "    </tr>\n",
       "    <tr>\n",
       "      <th>3</th>\n",
       "      <td>PK-PWA</td>\n",
       "      <td>KNO</td>\n",
       "      <td>CGK</td>\n",
       "      <td>1</td>\n",
       "      <td>4/24/2022 7:48</td>\n",
       "      <td>4/24/2022 9:58</td>\n",
       "      <td>0 days 02:10:00</td>\n",
       "    </tr>\n",
       "    <tr>\n",
       "      <th>4</th>\n",
       "      <td>PK-PWA</td>\n",
       "      <td>CGK</td>\n",
       "      <td>BDJ</td>\n",
       "      <td>1</td>\n",
       "      <td>NaN</td>\n",
       "      <td>NaN</td>\n",
       "      <td>NaT</td>\n",
       "    </tr>\n",
       "  </tbody>\n",
       "</table>\n",
       "</div>"
      ],
      "text/plain": [
       "   AC_REG DEP_STA ARR_STA  CYC      TO_DATETIME    LAND_DATETIME        FLT_DURR\n",
       "0  PK-PWA     SHJ     CCU    1  4/10/2022 22:43   4/11/2022 3:29 0 days 04:46:00\n",
       "1  PK-PWA     CCU     CGK    1   4/17/2022 4:56  4/17/2022 10:00 0 days 05:04:00\n",
       "2  PK-PWA     CGK     KNO    1              NaN              NaN             NaT\n",
       "3  PK-PWA     KNO     CGK    1   4/24/2022 7:48   4/24/2022 9:58 0 days 02:10:00\n",
       "4  PK-PWA     CGK     BDJ    1              NaN              NaN             NaT"
      ]
     },
     "execution_count": 2,
     "metadata": {},
     "output_type": "execute_result"
    }
   ],
   "source": [
    "util_raw = pd.read_csv(\"Utilization.csv\")\n",
    "util_raw['TO_DATETIME'] = util_raw['TO_DATE'] + ' ' + util_raw['TO_TIME (UTC)']\n",
    "util_raw['LAND_DATETIME'] = util_raw['LAND_DATE'] + ' ' + util_raw['LAND_TIME (UTC)']\n",
    "util_raw['FLT_DURR'] = pd.to_datetime(util_raw['LAND_DATETIME']) - pd.to_datetime(util_raw['TO_DATETIME'])\n",
    "util_raw.drop(columns=['TO_DATE', 'TO_TIME (UTC)', 'LAND_DATE', 'LAND_TIME (UTC)'], inplace=True)\n",
    "util_raw.head()\n"
   ]
  },
  {
   "cell_type": "code",
   "execution_count": 3,
   "metadata": {},
   "outputs": [
    {
     "data": {
      "text/html": [
       "<div>\n",
       "<style scoped>\n",
       "    .dataframe tbody tr th:only-of-type {\n",
       "        vertical-align: middle;\n",
       "    }\n",
       "\n",
       "    .dataframe tbody tr th {\n",
       "        vertical-align: top;\n",
       "    }\n",
       "\n",
       "    .dataframe thead th {\n",
       "        text-align: right;\n",
       "    }\n",
       "</style>\n",
       "<table border=\"1\" class=\"dataframe\">\n",
       "  <thead>\n",
       "    <tr style=\"text-align: right;\">\n",
       "      <th></th>\n",
       "      <th>MON-YEAR</th>\n",
       "      <th>MON_NUM_REV_FLIGHTS</th>\n",
       "      <th>MON_NUM_DELAYS</th>\n",
       "      <th>MON_FLEET_HOURS</th>\n",
       "      <th>MON_FLEET_CYC</th>\n",
       "      <th>TOT_FLEET_HOURS</th>\n",
       "      <th>TOT_FLEET_CYC</th>\n",
       "      <th>TOT_TECH_INC</th>\n",
       "    </tr>\n",
       "  </thead>\n",
       "  <tbody>\n",
       "    <tr>\n",
       "      <th>0</th>\n",
       "      <td>2/1/2022</td>\n",
       "      <td>NaN</td>\n",
       "      <td>NaN</td>\n",
       "      <td>NaN</td>\n",
       "      <td>NaN</td>\n",
       "      <td>NaN</td>\n",
       "      <td>NaN</td>\n",
       "      <td>NaN</td>\n",
       "    </tr>\n",
       "    <tr>\n",
       "      <th>1</th>\n",
       "      <td>3/1/2022</td>\n",
       "      <td>NaN</td>\n",
       "      <td>NaN</td>\n",
       "      <td>NaN</td>\n",
       "      <td>NaN</td>\n",
       "      <td>NaN</td>\n",
       "      <td>NaN</td>\n",
       "      <td>NaN</td>\n",
       "    </tr>\n",
       "    <tr>\n",
       "      <th>2</th>\n",
       "      <td>4/1/2022</td>\n",
       "      <td>NaN</td>\n",
       "      <td>NaN</td>\n",
       "      <td>NaN</td>\n",
       "      <td>NaN</td>\n",
       "      <td>NaN</td>\n",
       "      <td>NaN</td>\n",
       "      <td>NaN</td>\n",
       "    </tr>\n",
       "    <tr>\n",
       "      <th>3</th>\n",
       "      <td>5/1/2022</td>\n",
       "      <td>NaN</td>\n",
       "      <td>NaN</td>\n",
       "      <td>NaN</td>\n",
       "      <td>NaN</td>\n",
       "      <td>NaN</td>\n",
       "      <td>NaN</td>\n",
       "      <td>NaN</td>\n",
       "    </tr>\n",
       "    <tr>\n",
       "      <th>4</th>\n",
       "      <td>6/1/2022</td>\n",
       "      <td>NaN</td>\n",
       "      <td>NaN</td>\n",
       "      <td>NaN</td>\n",
       "      <td>NaN</td>\n",
       "      <td>NaN</td>\n",
       "      <td>NaN</td>\n",
       "      <td>NaN</td>\n",
       "    </tr>\n",
       "  </tbody>\n",
       "</table>\n",
       "</div>"
      ],
      "text/plain": [
       "   MON-YEAR  MON_NUM_REV_FLIGHTS  MON_NUM_DELAYS  MON_FLEET_HOURS  MON_FLEET_CYC  TOT_FLEET_HOURS  TOT_FLEET_CYC  TOT_TECH_INC\n",
       "0  2/1/2022                  NaN             NaN              NaN            NaN              NaN            NaN           NaN\n",
       "1  3/1/2022                  NaN             NaN              NaN            NaN              NaN            NaN           NaN\n",
       "2  4/1/2022                  NaN             NaN              NaN            NaN              NaN            NaN           NaN\n",
       "3  5/1/2022                  NaN             NaN              NaN            NaN              NaN            NaN           NaN\n",
       "4  6/1/2022                  NaN             NaN              NaN            NaN              NaN            NaN           NaN"
      ]
     },
     "execution_count": 3,
     "metadata": {},
     "output_type": "execute_result"
    }
   ],
   "source": [
    "dr_raw = pd.read_csv(\"Dispatch Reliability.csv\")\n",
    "dr_raw.head()"
   ]
  },
  {
   "cell_type": "code",
   "execution_count": 4,
   "metadata": {},
   "outputs": [
    {
     "data": {
      "text/html": [
       "<div>\n",
       "<style scoped>\n",
       "    .dataframe tbody tr th:only-of-type {\n",
       "        vertical-align: middle;\n",
       "    }\n",
       "\n",
       "    .dataframe tbody tr th {\n",
       "        vertical-align: top;\n",
       "    }\n",
       "\n",
       "    .dataframe thead th {\n",
       "        text-align: right;\n",
       "    }\n",
       "</style>\n",
       "<table border=\"1\" class=\"dataframe\">\n",
       "  <thead>\n",
       "    <tr style=\"text-align: right;\">\n",
       "      <th></th>\n",
       "      <th>MSN</th>\n",
       "      <th>REGISTRATION</th>\n",
       "      <th>AIRCRAFT TYPE</th>\n",
       "      <th>AC TOTAL HOURS</th>\n",
       "      <th>...</th>\n",
       "      <th>NLG SHOCK ABSORBER</th>\n",
       "      <th>FORESTAY</th>\n",
       "      <th>LOCK LINK</th>\n",
       "      <th>NLG ACTUATING CYLINDER</th>\n",
       "    </tr>\n",
       "  </thead>\n",
       "  <tbody>\n",
       "    <tr>\n",
       "      <th>0</th>\n",
       "      <td>3809</td>\n",
       "      <td>PK-PWA</td>\n",
       "      <td>A320-214</td>\n",
       "      <td>38400:04</td>\n",
       "      <td>...</td>\n",
       "      <td>D23592020-2</td>\n",
       "      <td>D23596000-3</td>\n",
       "      <td>D23612000</td>\n",
       "      <td>NaN</td>\n",
       "    </tr>\n",
       "    <tr>\n",
       "      <th>1</th>\n",
       "      <td>5463</td>\n",
       "      <td>PK-PWC</td>\n",
       "      <td>A320-214</td>\n",
       "      <td>26819:44</td>\n",
       "      <td>...</td>\n",
       "      <td>D23592020-2</td>\n",
       "      <td>D23596000-3</td>\n",
       "      <td>NaN</td>\n",
       "      <td>D2361300</td>\n",
       "    </tr>\n",
       "  </tbody>\n",
       "</table>\n",
       "<p>2 rows × 38 columns</p>\n",
       "</div>"
      ],
      "text/plain": [
       "    MSN REGISTRATION AIRCRAFT TYPE AC TOTAL HOURS  ...  NLG SHOCK ABSORBER     FORESTAY  LOCK LINK  NLG ACTUATING CYLINDER\n",
       "0  3809       PK-PWA      A320-214       38400:04  ...        D23592020-2   D23596000-3  D23612000                     NaN\n",
       "1  5463       PK-PWC      A320-214       26819:44  ...        D23592020-2   D23596000-3        NaN                D2361300\n",
       "\n",
       "[2 rows x 38 columns]"
      ]
     },
     "execution_count": 4,
     "metadata": {},
     "output_type": "execute_result"
    }
   ],
   "source": [
    "config_raw = pd.read_csv(\"AC_CONFIG_CATALOG.csv\",)\n",
    "config_raw.head()"
   ]
  },
  {
   "cell_type": "code",
   "execution_count": 5,
   "metadata": {},
   "outputs": [],
   "source": [
    "config_raw['AC TOTAL HOURS'] = config_raw['AC TOTAL HOURS'] + ':00'\n",
    "config_raw['AC TOTAL HOURS'] = pd.to_timedelta(config_raw['AC TOTAL HOURS'])"
   ]
  },
  {
   "cell_type": "code",
   "execution_count": 6,
   "metadata": {},
   "outputs": [],
   "source": [
    "pwa_tot_util = util_raw[util_raw['AC_REG'] == 'PK-PWA']['FLT_DURR'].sum()\n",
    "pwc_tot_util = util_raw[util_raw['AC_REG'] == 'PK-PWC']['FLT_DURR'].sum()\n",
    "\n",
    "pwa_current_total = ((config_raw[config_raw['REGISTRATION'] == 'PK-PWA']['AC TOTAL HOURS'].values + pwa_tot_util)/np.timedelta64(1,'s'))/3600\n",
    "pwc_current_total = ((config_raw[config_raw['REGISTRATION'] == 'PK-PWC']['AC TOTAL HOURS'].values + pwc_tot_util)/np.timedelta64(1,'s'))/3600"
   ]
  },
  {
   "cell_type": "code",
   "execution_count": 7,
   "metadata": {},
   "outputs": [
    {
     "name": "stdout",
     "output_type": "stream",
     "text": [
      "The current total hours of PWA:  [38419.96666667]\n",
      "The current total hours of PWC:  [26869.8]\n"
     ]
    }
   ],
   "source": [
    "print('The current total hours of PWA: ',pwa_current_total)\n",
    "print('The current total hours of PWC: ',pwc_current_total)"
   ]
  },
  {
   "cell_type": "code",
   "execution_count": 8,
   "metadata": {},
   "outputs": [
    {
     "data": {
      "text/plain": [
       "array([38419.96666667])"
      ]
     },
     "execution_count": 8,
     "metadata": {},
     "output_type": "execute_result"
    }
   ],
   "source": [
    "pwa_current_total"
   ]
  },
  {
   "cell_type": "code",
   "execution_count": null,
   "metadata": {},
   "outputs": [],
   "source": []
  }
 ],
 "metadata": {
  "interpreter": {
   "hash": "f8d58e9c5d668a52c723660da8cc3100edd014fd62d201b7bbb4c9a6121e0fef"
  },
  "kernelspec": {
   "display_name": "Python 3.9.11 ('simple_ds')",
   "language": "python",
   "name": "python3"
  },
  "language_info": {
   "codemirror_mode": {
    "name": "ipython",
    "version": 3
   },
   "file_extension": ".py",
   "mimetype": "text/x-python",
   "name": "python",
   "nbconvert_exporter": "python",
   "pygments_lexer": "ipython3",
   "version": "3.9.11"
  },
  "orig_nbformat": 4
 },
 "nbformat": 4,
 "nbformat_minor": 2
}
