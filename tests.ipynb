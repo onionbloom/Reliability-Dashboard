{
 "cells": [
  {
   "cell_type": "code",
   "execution_count": 106,
   "metadata": {},
   "outputs": [],
   "source": [
    "import pandas as pd\n",
    "import numpy as np\n",
    "from datetime import datetime\n",
    "from dateutil.relativedelta import relativedelta"
   ]
  },
  {
   "cell_type": "code",
   "execution_count": 123,
   "metadata": {},
   "outputs": [],
   "source": [
    "status = pd.read_csv(\"./csv_data_files/CONFIG_DB.csv\")[['MSN', 'REGISTRATION', 'AIRCRAFT TYPE', 'CURR_TOTAL_HOURS', 'CURR_TOTAL_CYCLES', 'STATUS']]\n",
    "status.rename(columns={\"CURR_TOTAL_HOURS\": \"TSN\", \"CURR_TOTAL_CYCLES\": \"CSN\"}, inplace=True)\n"
   ]
  },
  {
   "cell_type": "code",
   "execution_count": 124,
   "metadata": {},
   "outputs": [
    {
     "data": {
      "text/html": [
       "<div>\n",
       "<style scoped>\n",
       "    .dataframe tbody tr th:only-of-type {\n",
       "        vertical-align: middle;\n",
       "    }\n",
       "\n",
       "    .dataframe tbody tr th {\n",
       "        vertical-align: top;\n",
       "    }\n",
       "\n",
       "    .dataframe thead th {\n",
       "        text-align: right;\n",
       "    }\n",
       "</style>\n",
       "<table border=\"1\" class=\"dataframe\">\n",
       "  <thead>\n",
       "    <tr style=\"text-align: right;\">\n",
       "      <th></th>\n",
       "      <th>MSN</th>\n",
       "      <th>REGISTRATION</th>\n",
       "      <th>AIRCRAFT TYPE</th>\n",
       "      <th>TSN</th>\n",
       "      <th>CSN</th>\n",
       "      <th>STATUS</th>\n",
       "    </tr>\n",
       "  </thead>\n",
       "  <tbody>\n",
       "    <tr>\n",
       "      <th>0</th>\n",
       "      <td>3809</td>\n",
       "      <td>PK-PWA</td>\n",
       "      <td>A320-214</td>\n",
       "      <td>38434.333333</td>\n",
       "      <td>19889</td>\n",
       "      <td>ONLINE</td>\n",
       "    </tr>\n",
       "    <tr>\n",
       "      <th>1</th>\n",
       "      <td>5463</td>\n",
       "      <td>PK-PWC</td>\n",
       "      <td>A320-214</td>\n",
       "      <td>26925.466667</td>\n",
       "      <td>17418</td>\n",
       "      <td>ONLINE</td>\n",
       "    </tr>\n",
       "  </tbody>\n",
       "</table>\n",
       "</div>"
      ],
      "text/plain": [
       "    MSN REGISTRATION AIRCRAFT TYPE           TSN    CSN  STATUS\n",
       "0  3809       PK-PWA      A320-214  38434.333333  19889  ONLINE\n",
       "1  5463       PK-PWC      A320-214  26925.466667  17418  ONLINE"
      ]
     },
     "execution_count": 124,
     "metadata": {},
     "output_type": "execute_result"
    }
   ],
   "source": [
    "status"
   ]
  },
  {
   "cell_type": "code",
   "execution_count": null,
   "metadata": {},
   "outputs": [],
   "source": []
  }
 ],
 "metadata": {
  "interpreter": {
   "hash": "f8d58e9c5d668a52c723660da8cc3100edd014fd62d201b7bbb4c9a6121e0fef"
  },
  "kernelspec": {
   "display_name": "Python 3.9.11 ('simple_ds')",
   "language": "python",
   "name": "python3"
  },
  "language_info": {
   "codemirror_mode": {
    "name": "ipython",
    "version": 3
   },
   "file_extension": ".py",
   "mimetype": "text/x-python",
   "name": "python",
   "nbconvert_exporter": "python",
   "pygments_lexer": "ipython3",
   "version": "3.9.11"
  },
  "orig_nbformat": 4
 },
 "nbformat": 4,
 "nbformat_minor": 2
}
