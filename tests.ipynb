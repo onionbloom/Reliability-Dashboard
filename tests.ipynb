{
 "cells": [
  {
   "cell_type": "code",
   "execution_count": 1,
   "metadata": {},
   "outputs": [],
   "source": [
    "import pandas as pd\n",
    "import numpy as np\n",
    "\n",
    "from dataframes import get_pirep_df"
   ]
  },
  {
   "cell_type": "code",
   "execution_count": 2,
   "metadata": {},
   "outputs": [
    {
     "data": {
      "text/html": [
       "<div>\n",
       "<style scoped>\n",
       "    .dataframe tbody tr th:only-of-type {\n",
       "        vertical-align: middle;\n",
       "    }\n",
       "\n",
       "    .dataframe tbody tr th {\n",
       "        vertical-align: top;\n",
       "    }\n",
       "\n",
       "    .dataframe thead th {\n",
       "        text-align: right;\n",
       "    }\n",
       "</style>\n",
       "<table border=\"1\" class=\"dataframe\">\n",
       "  <thead>\n",
       "    <tr style=\"text-align: right;\">\n",
       "      <th></th>\n",
       "      <th>Description</th>\n",
       "      <th>PIREPs</th>\n",
       "      <th>PIRRATE_12mth</th>\n",
       "      <th>UCL</th>\n",
       "    </tr>\n",
       "    <tr>\n",
       "      <th>ATA</th>\n",
       "      <th></th>\n",
       "      <th></th>\n",
       "      <th></th>\n",
       "      <th></th>\n",
       "    </tr>\n",
       "  </thead>\n",
       "  <tbody>\n",
       "    <tr>\n",
       "      <th>21</th>\n",
       "      <td>AIR CONDITIONING</td>\n",
       "      <td>3</td>\n",
       "      <td>0.011547</td>\n",
       "      <td>1.195755</td>\n",
       "    </tr>\n",
       "    <tr>\n",
       "      <th>27</th>\n",
       "      <td>FLIGHT CONTROLS</td>\n",
       "      <td>3</td>\n",
       "      <td>0.011547</td>\n",
       "      <td>1.620307</td>\n",
       "    </tr>\n",
       "    <tr>\n",
       "      <th>36</th>\n",
       "      <td>PNEUMATIC</td>\n",
       "      <td>3</td>\n",
       "      <td>0.011547</td>\n",
       "      <td>1.620307</td>\n",
       "    </tr>\n",
       "    <tr>\n",
       "      <th>28</th>\n",
       "      <td>FUEL</td>\n",
       "      <td>2</td>\n",
       "      <td>0.007698</td>\n",
       "      <td>0.79717</td>\n",
       "    </tr>\n",
       "    <tr>\n",
       "      <th>22</th>\n",
       "      <td>AUTO FLIGHT</td>\n",
       "      <td>1</td>\n",
       "      <td>0.003849</td>\n",
       "      <td>0.398585</td>\n",
       "    </tr>\n",
       "  </tbody>\n",
       "</table>\n",
       "</div>"
      ],
      "text/plain": [
       "          Description PIREPs PIRRATE_12mth       UCL\n",
       "ATA                                                 \n",
       "21   AIR CONDITIONING      3      0.011547  1.195755\n",
       "27    FLIGHT CONTROLS      3      0.011547  1.620307\n",
       "36          PNEUMATIC      3      0.011547  1.620307\n",
       "28               FUEL      2      0.007698   0.79717\n",
       "22        AUTO FLIGHT      1      0.003849  0.398585"
      ]
     },
     "execution_count": 2,
     "metadata": {},
     "output_type": "execute_result"
    }
   ],
   "source": [
    "get_pirep_df(top5=True)"
   ]
  },
  {
   "cell_type": "code",
   "execution_count": null,
   "metadata": {},
   "outputs": [],
   "source": []
  }
 ],
 "metadata": {
  "interpreter": {
   "hash": "f8d58e9c5d668a52c723660da8cc3100edd014fd62d201b7bbb4c9a6121e0fef"
  },
  "kernelspec": {
   "display_name": "Python 3.9.11 ('simple_ds')",
   "language": "python",
   "name": "python3"
  },
  "language_info": {
   "codemirror_mode": {
    "name": "ipython",
    "version": 3
   },
   "file_extension": ".py",
   "mimetype": "text/x-python",
   "name": "python",
   "nbconvert_exporter": "python",
   "pygments_lexer": "ipython3",
   "version": "3.9.11"
  },
  "orig_nbformat": 4
 },
 "nbformat": 4,
 "nbformat_minor": 2
}
