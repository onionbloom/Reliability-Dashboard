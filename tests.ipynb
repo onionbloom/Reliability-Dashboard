{
 "cells": [
  {
   "cell_type": "code",
   "execution_count": 24,
   "metadata": {},
   "outputs": [],
   "source": [
    "import pandas as pd\n",
    "import numpy as np\n",
    "from datetime import datetime\n",
    "from dateutil.relativedelta import relativedelta\n",
    "from pandas import IndexSlice as idx\n",
    "\n",
    "from dataframes import get_fluids_df"
   ]
  },
  {
   "cell_type": "code",
   "execution_count": 25,
   "metadata": {},
   "outputs": [],
   "source": [
    "oil_consum = get_fluids_df()"
   ]
  },
  {
   "cell_type": "code",
   "execution_count": 26,
   "metadata": {},
   "outputs": [],
   "source": [
    "df = oil_consum.loc['PK-PWC'].reset_index()\n"
   ]
  },
  {
   "cell_type": "code",
   "execution_count": 27,
   "metadata": {},
   "outputs": [
    {
     "name": "stdout",
     "output_type": "stream",
     "text": [
      "<class 'pandas.core.frame.DataFrame'>\n",
      "RangeIndex: 12 entries, 0 to 11\n",
      "Data columns (total 5 columns):\n",
      " #   Column           Non-Null Count  Dtype         \n",
      "---  ------           --------------  -----         \n",
      " 0   DATE             12 non-null     datetime64[ns]\n",
      " 1   ENG1_OIL         12 non-null     float64       \n",
      " 2   ENG1_OIL_QTZ/FH  12 non-null     float64       \n",
      " 3   ENG2_OIL         11 non-null     float64       \n",
      " 4   ENG2_OIL_QTZ/FH  11 non-null     float64       \n",
      "dtypes: datetime64[ns](1), float64(4)\n",
      "memory usage: 608.0 bytes\n"
     ]
    }
   ],
   "source": [
    "df.info()"
   ]
  },
  {
   "cell_type": "code",
   "execution_count": 29,
   "metadata": {},
   "outputs": [
    {
     "data": {
      "text/plain": [
       "0     2022-04-09\n",
       "1     2022-04-21\n",
       "2     2022-04-24\n",
       "3     2022-05-06\n",
       "4     2022-05-15\n",
       "5     2022-05-30\n",
       "6     2022-06-05\n",
       "7     2022-06-08\n",
       "8     2022-06-11\n",
       "9     2022-06-17\n",
       "10    2022-06-23\n",
       "11    2022-06-26\n",
       "Name: DATE, dtype: object"
      ]
     },
     "execution_count": 29,
     "metadata": {},
     "output_type": "execute_result"
    }
   ],
   "source": [
    "df['DATE'].dt.strftime('%Y-%m-%d')"
   ]
  },
  {
   "cell_type": "code",
   "execution_count": null,
   "metadata": {},
   "outputs": [],
   "source": []
  }
 ],
 "metadata": {
  "interpreter": {
   "hash": "f8d58e9c5d668a52c723660da8cc3100edd014fd62d201b7bbb4c9a6121e0fef"
  },
  "kernelspec": {
   "display_name": "Python 3.9.11 ('simple_ds')",
   "language": "python",
   "name": "python3"
  },
  "language_info": {
   "codemirror_mode": {
    "name": "ipython",
    "version": 3
   },
   "file_extension": ".py",
   "mimetype": "text/x-python",
   "name": "python",
   "nbconvert_exporter": "python",
   "pygments_lexer": "ipython3",
   "version": "3.9.11"
  },
  "orig_nbformat": 4
 },
 "nbformat": 4,
 "nbformat_minor": 2
}
