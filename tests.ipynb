{
 "cells": [
  {
   "cell_type": "code",
   "execution_count": 5,
   "metadata": {},
   "outputs": [],
   "source": [
    "import pandas as pd\n",
    "import numpy as np\n",
    "from datetime import datetime\n",
    "from dateutil.relativedelta import relativedelta"
   ]
  },
  {
   "cell_type": "code",
   "execution_count": 6,
   "metadata": {},
   "outputs": [],
   "source": [
    "util_raw = pd.read_csv(\"./csv_data_files/UTIL.csv\")\n",
    "util_raw['TO_DATETIME'] = pd.to_datetime(util_raw['TO_DATE'] + ' ' + util_raw['TO_TIME (UTC)'])\n",
    "util_raw['LAND_DATETIME'] = pd.to_datetime(util_raw['LAND_DATE'] + ' ' + util_raw['LAND_TIME (UTC)'])\n",
    "util_raw['FL_DURR'] = util_raw['LAND_DATETIME'] - util_raw['TO_DATETIME']\n",
    "util_raw.drop(columns=['TO_DATE', 'TO_TIME (UTC)', 'LAND_DATE', 'LAND_TIME (UTC)'], inplace=True)\n",
    "\n",
    "del_raw = pd.read_csv(\"./csv_data_files/DELAYS.csv\")\n",
    "del_raw['DATE'] = pd.to_datetime(del_raw['DATE'])"
   ]
  },
  {
   "cell_type": "code",
   "execution_count": 7,
   "metadata": {},
   "outputs": [
    {
     "data": {
      "text/html": [
       "<div>\n",
       "<style scoped>\n",
       "    .dataframe tbody tr th:only-of-type {\n",
       "        vertical-align: middle;\n",
       "    }\n",
       "\n",
       "    .dataframe tbody tr th {\n",
       "        vertical-align: top;\n",
       "    }\n",
       "\n",
       "    .dataframe thead th {\n",
       "        text-align: right;\n",
       "    }\n",
       "</style>\n",
       "<table border=\"1\" class=\"dataframe\">\n",
       "  <thead>\n",
       "    <tr style=\"text-align: right;\">\n",
       "      <th></th>\n",
       "      <th>AC_REG</th>\n",
       "      <th>DEP_STA</th>\n",
       "      <th>ARR_STA</th>\n",
       "      <th>CYC</th>\n",
       "      <th>DELAY</th>\n",
       "      <th>IMPACT_DEL</th>\n",
       "      <th>DR</th>\n",
       "      <th>FL_DURR</th>\n",
       "      <th>TO_DATETIME</th>\n",
       "      <th>LAND_DATETIME</th>\n",
       "    </tr>\n",
       "  </thead>\n",
       "  <tbody>\n",
       "    <tr>\n",
       "      <th>0</th>\n",
       "      <td>PK-PWA</td>\n",
       "      <td>SHJ</td>\n",
       "      <td>CCU</td>\n",
       "      <td>1</td>\n",
       "      <td>0</td>\n",
       "      <td>0</td>\n",
       "      <td>NaN</td>\n",
       "      <td>0 days 04:46:00</td>\n",
       "      <td>2022-04-10 22:43:00</td>\n",
       "      <td>2022-04-11 03:29:00</td>\n",
       "    </tr>\n",
       "    <tr>\n",
       "      <th>1</th>\n",
       "      <td>PK-PWA</td>\n",
       "      <td>CCU</td>\n",
       "      <td>CGK</td>\n",
       "      <td>1</td>\n",
       "      <td>0</td>\n",
       "      <td>0</td>\n",
       "      <td>NaN</td>\n",
       "      <td>0 days 05:04:00</td>\n",
       "      <td>2022-04-17 04:56:00</td>\n",
       "      <td>2022-04-17 10:00:00</td>\n",
       "    </tr>\n",
       "    <tr>\n",
       "      <th>2</th>\n",
       "      <td>PK-PWA</td>\n",
       "      <td>CGK</td>\n",
       "      <td>KNO</td>\n",
       "      <td>1</td>\n",
       "      <td>0</td>\n",
       "      <td>0</td>\n",
       "      <td>NaN</td>\n",
       "      <td>NaT</td>\n",
       "      <td>NaT</td>\n",
       "      <td>NaT</td>\n",
       "    </tr>\n",
       "    <tr>\n",
       "      <th>3</th>\n",
       "      <td>PK-PWA</td>\n",
       "      <td>KNO</td>\n",
       "      <td>CGK</td>\n",
       "      <td>1</td>\n",
       "      <td>0</td>\n",
       "      <td>0</td>\n",
       "      <td>NaN</td>\n",
       "      <td>0 days 02:10:00</td>\n",
       "      <td>2022-04-24 07:48:00</td>\n",
       "      <td>2022-04-24 09:58:00</td>\n",
       "    </tr>\n",
       "    <tr>\n",
       "      <th>4</th>\n",
       "      <td>PK-PWA</td>\n",
       "      <td>CGK</td>\n",
       "      <td>BDJ</td>\n",
       "      <td>1</td>\n",
       "      <td>0</td>\n",
       "      <td>0</td>\n",
       "      <td>NaN</td>\n",
       "      <td>NaT</td>\n",
       "      <td>NaT</td>\n",
       "      <td>NaT</td>\n",
       "    </tr>\n",
       "  </tbody>\n",
       "</table>\n",
       "</div>"
      ],
      "text/plain": [
       "   AC_REG DEP_STA ARR_STA  CYC  DELAY  IMPACT_DEL  DR         FL_DURR  \\\n",
       "0  PK-PWA     SHJ     CCU    1      0           0 NaN 0 days 04:46:00   \n",
       "1  PK-PWA     CCU     CGK    1      0           0 NaN 0 days 05:04:00   \n",
       "2  PK-PWA     CGK     KNO    1      0           0 NaN             NaT   \n",
       "3  PK-PWA     KNO     CGK    1      0           0 NaN 0 days 02:10:00   \n",
       "4  PK-PWA     CGK     BDJ    1      0           0 NaN             NaT   \n",
       "\n",
       "          TO_DATETIME       LAND_DATETIME  \n",
       "0 2022-04-10 22:43:00 2022-04-11 03:29:00  \n",
       "1 2022-04-17 04:56:00 2022-04-17 10:00:00  \n",
       "2                 NaT                 NaT  \n",
       "3 2022-04-24 07:48:00 2022-04-24 09:58:00  \n",
       "4                 NaT                 NaT  "
      ]
     },
     "execution_count": 7,
     "metadata": {},
     "output_type": "execute_result"
    }
   ],
   "source": [
    "util_raw.head()"
   ]
  },
  {
   "cell_type": "code",
   "execution_count": 22,
   "metadata": {},
   "outputs": [],
   "source": [
    "dff = util_raw.groupby(pd.Grouper(key='TO_DATETIME', freq='W-MON'))[['CYC', 'DELAY', 'IMPACT_DEL']].sum()"
   ]
  },
  {
   "cell_type": "code",
   "execution_count": 23,
   "metadata": {},
   "outputs": [],
   "source": [
    "dff['DR'] = (dff['CYC'] - dff['DELAY']) * 100 / dff['CYC']\n"
   ]
  },
  {
   "cell_type": "code",
   "execution_count": 28,
   "metadata": {},
   "outputs": [],
   "source": [
    "df = util_raw.groupby(pd.Grouper(key='TO_DATETIME', freq='M'))[['CYC', 'DELAY', 'IMPACT_DEL']].sum()"
   ]
  },
  {
   "cell_type": "code",
   "execution_count": 29,
   "metadata": {},
   "outputs": [],
   "source": [
    "df['DR'] = (df['CYC'] - df['DELAY']) * 100 / df['CYC']"
   ]
  },
  {
   "cell_type": "code",
   "execution_count": 30,
   "metadata": {},
   "outputs": [
    {
     "data": {
      "text/html": [
       "<div>\n",
       "<style scoped>\n",
       "    .dataframe tbody tr th:only-of-type {\n",
       "        vertical-align: middle;\n",
       "    }\n",
       "\n",
       "    .dataframe tbody tr th {\n",
       "        vertical-align: top;\n",
       "    }\n",
       "\n",
       "    .dataframe thead th {\n",
       "        text-align: right;\n",
       "    }\n",
       "</style>\n",
       "<table border=\"1\" class=\"dataframe\">\n",
       "  <thead>\n",
       "    <tr style=\"text-align: right;\">\n",
       "      <th></th>\n",
       "      <th>CYC</th>\n",
       "      <th>DELAY</th>\n",
       "      <th>IMPACT_DEL</th>\n",
       "      <th>DR</th>\n",
       "    </tr>\n",
       "    <tr>\n",
       "      <th>TO_DATETIME</th>\n",
       "      <th></th>\n",
       "      <th></th>\n",
       "      <th></th>\n",
       "      <th></th>\n",
       "    </tr>\n",
       "  </thead>\n",
       "  <tbody>\n",
       "    <tr>\n",
       "      <th>2022-04-30</th>\n",
       "      <td>27</td>\n",
       "      <td>0</td>\n",
       "      <td>0</td>\n",
       "      <td>100.000000</td>\n",
       "    </tr>\n",
       "    <tr>\n",
       "      <th>2022-05-31</th>\n",
       "      <td>30</td>\n",
       "      <td>1</td>\n",
       "      <td>0</td>\n",
       "      <td>96.666667</td>\n",
       "    </tr>\n",
       "    <tr>\n",
       "      <th>2022-06-30</th>\n",
       "      <td>36</td>\n",
       "      <td>0</td>\n",
       "      <td>0</td>\n",
       "      <td>100.000000</td>\n",
       "    </tr>\n",
       "  </tbody>\n",
       "</table>\n",
       "</div>"
      ],
      "text/plain": [
       "             CYC  DELAY  IMPACT_DEL          DR\n",
       "TO_DATETIME                                    \n",
       "2022-04-30    27      0           0  100.000000\n",
       "2022-05-31    30      1           0   96.666667\n",
       "2022-06-30    36      0           0  100.000000"
      ]
     },
     "execution_count": 30,
     "metadata": {},
     "output_type": "execute_result"
    }
   ],
   "source": [
    "df"
   ]
  },
  {
   "cell_type": "code",
   "execution_count": 52,
   "metadata": {},
   "outputs": [],
   "source": [
    "weekly = []"
   ]
  },
  {
   "cell_type": "code",
   "execution_count": 54,
   "metadata": {},
   "outputs": [
    {
     "name": "stdout",
     "output_type": "stream",
     "text": [
      "waw\n"
     ]
    }
   ],
   "source": [
    "if weekly:\n",
    "    print(\"wew\")\n",
    "else:\n",
    "    print(\"waw\")"
   ]
  },
  {
   "cell_type": "code",
   "execution_count": null,
   "metadata": {},
   "outputs": [],
   "source": []
  }
 ],
 "metadata": {
  "interpreter": {
   "hash": "f8d58e9c5d668a52c723660da8cc3100edd014fd62d201b7bbb4c9a6121e0fef"
  },
  "kernelspec": {
   "display_name": "Python 3.9.11 ('simple_ds')",
   "language": "python",
   "name": "python3"
  },
  "language_info": {
   "codemirror_mode": {
    "name": "ipython",
    "version": 3
   },
   "file_extension": ".py",
   "mimetype": "text/x-python",
   "name": "python",
   "nbconvert_exporter": "python",
   "pygments_lexer": "ipython3",
   "version": "3.9.11"
  },
  "orig_nbformat": 4
 },
 "nbformat": 4,
 "nbformat_minor": 2
}
