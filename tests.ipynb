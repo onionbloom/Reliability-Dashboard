{
 "cells": [
  {
   "cell_type": "code",
   "execution_count": 274,
   "metadata": {},
   "outputs": [],
   "source": [
    "import pandas as pd\n",
    "import numpy as np\n",
    "from datetime import datetime\n",
    "from dateutil.relativedelta import relativedelta\n",
    "from pandas import IndexSlice as idx"
   ]
  },
  {
   "cell_type": "code",
   "execution_count": 275,
   "metadata": {},
   "outputs": [],
   "source": [
    "techlog_raw = pd.read_csv(\"csv_data_files\\TECHLOG.csv\")\n",
    "techlog_raw['DATE'] = pd.to_datetime(techlog_raw['DATE'], format=\"%Y-%m-%d\")\n",
    "techlog_raw['ATA'] = techlog_raw['ATA'].astype(\"category\")\n",
    "\n",
    "util_raw = pd.read_csv(\"./csv_data_files/UTIL.csv\")\n",
    "util_raw['TO_DATETIME'] = pd.to_datetime(util_raw['TO_DATE'] + ' ' + util_raw['TO_TIME (UTC)'])\n",
    "util_raw['LAND_DATETIME'] = pd.to_datetime(util_raw['LAND_DATE'] + ' ' + util_raw['LAND_TIME (UTC)'])\n",
    "util_raw['FL_DURR'] = util_raw['LAND_DATETIME'] - util_raw['TO_DATETIME']\n",
    "util_raw.drop(columns=['TO_DATE', 'TO_TIME (UTC)', 'LAND_DATE', 'LAND_TIME (UTC)'], inplace=True)"
   ]
  },
  {
   "cell_type": "code",
   "execution_count": 276,
   "metadata": {},
   "outputs": [
    {
     "data": {
      "text/plain": [
       "177"
      ]
     },
     "execution_count": 276,
     "metadata": {},
     "output_type": "execute_result"
    }
   ],
   "source": [
    "util_raw['CYC'].sum()"
   ]
  },
  {
   "cell_type": "code",
   "execution_count": 277,
   "metadata": {},
   "outputs": [],
   "source": [
    "fluids = techlog_raw[['AC_REG', 'DATE', 'ENG1_OIL', 'ENG2_OIL', 'APU_OIL', 'IDG1_OIL','G_HYD','B_HYD','Y_HYD']].dropna()\n",
    "fluids_grouped = fluids.groupby(['AC_REG',pd.Grouper(key='DATE',freq='3D')]).sum()"
   ]
  },
  {
   "cell_type": "code",
   "execution_count": 278,
   "metadata": {},
   "outputs": [],
   "source": [
    "hrs = util_raw.groupby(['AC_REG', pd.Grouper(key='TO_DATETIME', freq='3D',)])[['FL_DURR']].sum()\n",
    "hrs['FL_DURR'] = hrs['FL_DURR']/np.timedelta64(1,'s')/3600"
   ]
  },
  {
   "cell_type": "code",
   "execution_count": 279,
   "metadata": {},
   "outputs": [],
   "source": [
    "eng1_consum= fluids_grouped[fluids_grouped['ENG1_OIL']>0][['ENG1_OIL']]"
   ]
  },
  {
   "cell_type": "code",
   "execution_count": 280,
   "metadata": {},
   "outputs": [
    {
     "data": {
      "text/html": [
       "<div>\n",
       "<style scoped>\n",
       "    .dataframe tbody tr th:only-of-type {\n",
       "        vertical-align: middle;\n",
       "    }\n",
       "\n",
       "    .dataframe tbody tr th {\n",
       "        vertical-align: top;\n",
       "    }\n",
       "\n",
       "    .dataframe thead th {\n",
       "        text-align: right;\n",
       "    }\n",
       "</style>\n",
       "<table border=\"1\" class=\"dataframe\">\n",
       "  <thead>\n",
       "    <tr style=\"text-align: right;\">\n",
       "      <th></th>\n",
       "      <th></th>\n",
       "      <th>ENG1_OIL</th>\n",
       "      <th>ENG1_OIL_QTZ/FH</th>\n",
       "    </tr>\n",
       "    <tr>\n",
       "      <th>AC_REG</th>\n",
       "      <th>DATE</th>\n",
       "      <th></th>\n",
       "      <th></th>\n",
       "    </tr>\n",
       "  </thead>\n",
       "  <tbody>\n",
       "    <tr>\n",
       "      <th rowspan=\"2\" valign=\"top\">PK-PWA</th>\n",
       "      <th>2022-04-21</th>\n",
       "      <td>2.0</td>\n",
       "      <td>0.394737</td>\n",
       "    </tr>\n",
       "    <tr>\n",
       "      <th>2022-04-24</th>\n",
       "      <td>1.0</td>\n",
       "      <td>0.165746</td>\n",
       "    </tr>\n",
       "    <tr>\n",
       "      <th rowspan=\"12\" valign=\"top\">PK-PWC</th>\n",
       "      <th>2022-04-09</th>\n",
       "      <td>1.0</td>\n",
       "      <td>0.062305</td>\n",
       "    </tr>\n",
       "    <tr>\n",
       "      <th>2022-04-21</th>\n",
       "      <td>1.0</td>\n",
       "      <td>0.062305</td>\n",
       "    </tr>\n",
       "    <tr>\n",
       "      <th>2022-04-24</th>\n",
       "      <td>2.0</td>\n",
       "      <td>0.109991</td>\n",
       "    </tr>\n",
       "    <tr>\n",
       "      <th>2022-05-06</th>\n",
       "      <td>1.0</td>\n",
       "      <td>0.126050</td>\n",
       "    </tr>\n",
       "    <tr>\n",
       "      <th>2022-05-15</th>\n",
       "      <td>2.0</td>\n",
       "      <td>0.285036</td>\n",
       "    </tr>\n",
       "    <tr>\n",
       "      <th>2022-05-30</th>\n",
       "      <td>1.0</td>\n",
       "      <td>0.166667</td>\n",
       "    </tr>\n",
       "    <tr>\n",
       "      <th>2022-06-05</th>\n",
       "      <td>1.0</td>\n",
       "      <td>0.166205</td>\n",
       "    </tr>\n",
       "    <tr>\n",
       "      <th>2022-06-08</th>\n",
       "      <td>2.0</td>\n",
       "      <td>0.321716</td>\n",
       "    </tr>\n",
       "    <tr>\n",
       "      <th>2022-06-11</th>\n",
       "      <td>2.0</td>\n",
       "      <td>0.303797</td>\n",
       "    </tr>\n",
       "    <tr>\n",
       "      <th>2022-06-17</th>\n",
       "      <td>1.0</td>\n",
       "      <td>0.136674</td>\n",
       "    </tr>\n",
       "    <tr>\n",
       "      <th>2022-06-23</th>\n",
       "      <td>4.0</td>\n",
       "      <td>0.178571</td>\n",
       "    </tr>\n",
       "    <tr>\n",
       "      <th>2022-06-26</th>\n",
       "      <td>2.0</td>\n",
       "      <td>0.093023</td>\n",
       "    </tr>\n",
       "  </tbody>\n",
       "</table>\n",
       "</div>"
      ],
      "text/plain": [
       "                   ENG1_OIL  ENG1_OIL_QTZ/FH\n",
       "AC_REG DATE                                 \n",
       "PK-PWA 2022-04-21       2.0         0.394737\n",
       "       2022-04-24       1.0         0.165746\n",
       "PK-PWC 2022-04-09       1.0         0.062305\n",
       "       2022-04-21       1.0         0.062305\n",
       "       2022-04-24       2.0         0.109991\n",
       "       2022-05-06       1.0         0.126050\n",
       "       2022-05-15       2.0         0.285036\n",
       "       2022-05-30       1.0         0.166667\n",
       "       2022-06-05       1.0         0.166205\n",
       "       2022-06-08       2.0         0.321716\n",
       "       2022-06-11       2.0         0.303797\n",
       "       2022-06-17       1.0         0.136674\n",
       "       2022-06-23       4.0         0.178571\n",
       "       2022-06-26       2.0         0.093023"
      ]
     },
     "execution_count": 280,
     "metadata": {},
     "output_type": "execute_result"
    }
   ],
   "source": [
    "list = []\n",
    "for reg in eng1_consum.index.get_level_values(0).unique():\n",
    "    hrs_per_reg = hrs.loc[reg].asfreq('3D', method='ffill')\n",
    "    for date in eng1_consum.loc[reg].index.get_level_values(0).unique():\n",
    "        list.append(eng1_consum.loc[idx[reg,date]]['ENG1_OIL'] / hrs_per_reg.loc[date]['FL_DURR'])\n",
    "\n",
    "eng1_consum['ENG1_OIL_QTZ/FH'] = list\n",
    "eng1_consum"
   ]
  },
  {
   "cell_type": "code",
   "execution_count": null,
   "metadata": {},
   "outputs": [],
   "source": []
  }
 ],
 "metadata": {
  "interpreter": {
   "hash": "f8d58e9c5d668a52c723660da8cc3100edd014fd62d201b7bbb4c9a6121e0fef"
  },
  "kernelspec": {
   "display_name": "Python 3.9.11 ('simple_ds')",
   "language": "python",
   "name": "python3"
  },
  "language_info": {
   "codemirror_mode": {
    "name": "ipython",
    "version": 3
   },
   "file_extension": ".py",
   "mimetype": "text/x-python",
   "name": "python",
   "nbconvert_exporter": "python",
   "pygments_lexer": "ipython3",
   "version": "3.9.11"
  },
  "orig_nbformat": 4
 },
 "nbformat": 4,
 "nbformat_minor": 2
}
